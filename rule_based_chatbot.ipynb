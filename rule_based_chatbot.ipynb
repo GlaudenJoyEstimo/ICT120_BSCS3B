{
  "nbformat": 4,
  "nbformat_minor": 0,
  "metadata": {
    "colab": {
      "name": "rule_based_chatbot.ipynb",
      "provenance": [],
      "authorship_tag": "ABX9TyMeEBEKIzr5sp+wHdUs3SGb",
      "include_colab_link": true
    },
    "kernelspec": {
      "name": "python3",
      "display_name": "Python 3"
    },
    "language_info": {
      "name": "python"
    }
  },
  "cells": [
    {
      "cell_type": "markdown",
      "metadata": {
        "id": "view-in-github",
        "colab_type": "text"
      },
      "source": [
        "<a href=\"https://colab.research.google.com/github/glaudnotcloud/ICT120_BSCS3B/blob/main/rule_based_chatbot.ipynb\" target=\"_parent\"><img src=\"https://colab.research.google.com/assets/colab-badge.svg\" alt=\"Open In Colab\"/></a>"
      ]
    },
    {
      "cell_type": "code",
      "metadata": {
        "id": "ioAUP3-hF29k",
        "colab": {
          "base_uri": "https://localhost:8080/"
        },
        "outputId": "e6b45eb4-14f5-4171-aa70-c9ed530495e0"
      },
      "source": [
        "import re\n",
        "from nltk.corpus import wordnet\n",
        "import nltk\n",
        "nltk.download('wordnet')\n",
        "list_words=['hello','timings','location','password','pin','thanks']\n",
        "list_syn={}\n",
        "for word in list_words:\n",
        "    synonyms=[]\n",
        "    for syn in wordnet.synsets(word):\n",
        "        for lem in syn.lemmas():\n",
        "            \n",
        "            # Remove any special characters from synonym strings\n",
        "            lem_name = re.sub('[^a-zA-Z0-9 \\n\\.]', ' ', lem.name())\n",
        "            synonyms.append(lem_name)\n",
        "   \n",
        "    list_syn[word]=set(synonyms)\n",
        "    \n",
        "print (list_syn)\n",
        "# Building dictionary of Intents & Keywords\n",
        "keywords={}\n",
        "keywords_dict={}\n",
        " \n",
        "# Defining a new key in the keywords dictionary\n",
        "keywords['greet']=[]\n",
        " \n",
        "# Populating the values in the keywords dictionary with synonyms of keywords formatted with RegEx metacharacters \n",
        "for synonym in list(list_syn['hello']):\n",
        "    keywords['greet'].append('.*\\\\b'+synonym+'\\\\b.*')\n",
        " \n",
        "# Defining a new key in the keywords dictionary\n",
        "keywords['timings']=[]\n",
        " \n",
        "# Populating the values in the keywords dictionary with synonyms of keywords formatted with RegEx metacharacters \n",
        "for synonym in list(list_syn['timings']):\n",
        "    keywords['timings'].append('.*\\\\b'+synonym+'\\\\b.*')\n",
        "\n",
        "# Defining a new key in the keywords dictionary\n",
        "keywords['located_in']=[]\n",
        " \n",
        "# Populating the values in the keywords dictionary with synonyms of keywords formatted with RegEx metacharacters \n",
        "for synonym in list(list_syn['location']):\n",
        "    keywords['located_in'].append('.*\\\\b'+synonym+'\\\\b.*')\n",
        "  \n",
        "# Defining a new key in the keywords dictionary\n",
        "keywords['reset_pin']=[]\n",
        " \n",
        "# Populating the values in the keywords dictionary with synonyms of keywords formatted with RegEx metacharacters \n",
        "for synonym in list(list_syn['password']):\n",
        "    keywords['reset_pin'].append('.*\\\\b'+synonym+'\\\\b.*')\n",
        "for synonym in list(list_syn['pin']):\n",
        "    keywords['reset_pin'].append('.*\\\\b'+synonym+'\\\\b.*')\n",
        "\n",
        "# Defining a new key in the keywords dictionary\n",
        "keywords['thank_you']=[]\n",
        " \n",
        "# Populating the values in the keywords dictionary with synonyms of keywords formatted with RegEx metacharacters \n",
        "for synonym in list(list_syn['thanks']):\n",
        "    keywords['thank_you'].append('.*\\\\b'+synonym+'\\\\b.*')\n",
        " \n",
        "for intent, keys in keywords.items():\n",
        "    \n",
        "    # Joining the values in the keywords dictionary with the OR (|) operator updating them in keywords_dict dictionary\n",
        "    keywords_dict[intent]=re.compile('|'.join(keys))\n",
        "print (keywords_dict)\n",
        "# Building a dictionary of responses\n",
        "responses={\n",
        "    'greet':'Hello! How can I help you?',\n",
        "    'timings':'We are open from 9AM to 5PM, Monday to Friday. We are closed on weekends and public holidays.',\n",
        "    'located_in':'We are located at LANDBANK Building, Iznart Corner Solis Street, Iloilo City.',\n",
        "    'reset_pin':'1. Go to your account. 2. Scroll down to Card Setting. 3. Tap Reset Pin and type your new 4 didgit pin number, you will enter it twice to confirm it.',\n",
        "    'thank_you':'You are welcome!',\n",
        "    'ask': 'How can I open a bank account?.',\n",
        "    'fallback':'I dont quite understand. Could you repeat that?',\n",
        "    \n",
        "}\n",
        "print (\"Welcome to MyBank. How may I help you?\")\n",
        "\n",
        "# While loop to run the chatbot indefinetely\n",
        "while (True):  \n",
        "    \n",
        "    # Takes the user input and converts all characters to lowercase\n",
        "    user_input = input().lower()\n",
        "    \n",
        "    # Defining the Chatbot's exit condition\n",
        "    if user_input == 'quit': \n",
        "        print (\"Thank you for visiting.\")\n",
        "        break    \n",
        "    \n",
        "    matched_intent = None \n",
        "    \n",
        "    for intent,pattern in keywords_dict.items():\n",
        "        \n",
        "        # Using the regular expression search function to look for keywords in user input\n",
        "        if re.search(pattern, user_input): \n",
        "            \n",
        "            # if a keyword matches, select the corresponding intent from the keywords_dict dictionary\n",
        "            matched_intent=intent  \n",
        "    \n",
        "    # The fallback intent is selected by default\n",
        "    key='fallback' \n",
        "    if matched_intent in responses:\n",
        "        \n",
        "    # If a keyword matches, the fallback intent is replaced by the matched intent as the key for the responses dictionary\n",
        "        key = matched_intent \n",
        "    \n",
        "    # The chatbot prints the response that matches the selected intent\n",
        "    print (responses[key]) \n",
        "    "
      ],
      "execution_count": null,
      "outputs": [
        {
          "output_type": "stream",
          "text": [
            "[nltk_data] Downloading package wordnet to /root/nltk_data...\n",
            "[nltk_data]   Package wordnet is already up-to-date!\n",
            "{'hello': {'hullo', 'hello', 'hi', 'how do you do', 'howdy'}, 'timings': {'timing', 'clock', 'time'}, 'location': {'fix', 'localisation', 'placement', 'localization', 'location', 'locating', 'emplacement', 'positioning', 'position'}, 'password': {'password', 'watchword', 'countersign', 'word', 'parole'}, 'pin': {'tholepin', 'PIN number', 'pin tumbler', 'PIN', 'oarlock', 'fall', 'bowling pin', 'personal identification number', 'peg', 'stick', 'pivot', 'flag', 'trap', 'immobilise', 'rowlock', 'thole', 'immobilize', 'pin'}, 'thanks': {'thank', 'give thanks', 'thanks'}}\n",
            "{'greet': re.compile('.*\\\\bhullo\\\\b.*|.*\\\\bhello\\\\b.*|.*\\\\bhi\\\\b.*|.*\\\\bhow do you do\\\\b.*|.*\\\\bhowdy\\\\b.*'), 'timings': re.compile('.*\\\\btiming\\\\b.*|.*\\\\bclock\\\\b.*|.*\\\\btime\\\\b.*'), 'located_in': re.compile('.*\\\\bfix\\\\b.*|.*\\\\blocalisation\\\\b.*|.*\\\\bplacement\\\\b.*|.*\\\\blocalization\\\\b.*|.*\\\\blocation\\\\b.*|.*\\\\blocating\\\\b.*|.*\\\\bemplacement\\\\b.*|.*\\\\bpositioning\\\\b.*|.*\\\\bposition\\\\b.*'), 'reset_pin': re.compile('.*\\\\bpassword\\\\b.*|.*\\\\bwatchword\\\\b.*|.*\\\\bcountersign\\\\b.*|.*\\\\bword\\\\b.*|.*\\\\bparole\\\\b.*|.*\\\\btholepin\\\\b.*|.*\\\\bPIN number\\\\b.*|.*\\\\bpin tumbler\\\\b.*|.*\\\\bPIN\\\\b.*|.*\\\\boarlock\\\\b.*|.*\\\\bfall\\\\b), 'thank_you': re.compile('.*\\\\bthank\\\\b.*|.*\\\\bgive thanks\\\\b.*|.*\\\\bthanks\\\\b.*')}\n",
            "Welcome to MyBank. How may I help you?\n"
          ],
          "name": "stdout"
        }
      ]
    }
  ]
}